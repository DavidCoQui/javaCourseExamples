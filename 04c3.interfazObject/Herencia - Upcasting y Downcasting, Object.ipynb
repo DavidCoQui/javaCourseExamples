{
 "cells": [
  {
   "cell_type": "code",
   "execution_count": 107,
   "metadata": {},
   "outputs": [],
   "source": [
    "public class Persona\n",
    "{\n",
    "    String nombre;\n",
    "    int edad;\n",
    "\n",
    "    public Persona(String nombre, int edad)\n",
    "    {\n",
    "        this.nombre = nombre;\n",
    "        this.edad = edad;\n",
    "    }\n",
    "    \n",
    "    public String getNombre()\n",
    "    {\n",
    "        return nombre;\n",
    "    }\n",
    "\n",
    "    @Override\n",
    "    public String toString()\n",
    "    {\n",
    "        return nombre + \"(\" + edad + \")\"; \n",
    "    }\n",
    "}\n",
    "\n",
    "public class Trabajador extends Persona\n",
    "{\n",
    "    String profesion;\n",
    "\n",
    "    public Trabajador(String nombre, int edad, String profesion)\n",
    "    {\n",
    "        super(nombre, edad);\n",
    "        this.profesion = profesion;\n",
    "    }\n",
    "\n",
    "    public String getProfesion()\n",
    "    {\n",
    "        return profesion;\n",
    "    }\n",
    "\n",
    "    @Override\n",
    "    public String toString()\n",
    "    {\n",
    "        return super.toString() + profesion; \n",
    "    }\n",
    "}"
   ]
  },
  {
   "cell_type": "code",
   "execution_count": 108,
   "metadata": {},
   "outputs": [],
   "source": [
    "Persona persona = new Persona(\"Luis\", 22);\n",
    "Trabajador trabajador = new Trabajador(\"Jaime\", 33, \"Teleco en Telefónica\");"
   ]
  },
  {
   "cell_type": "code",
   "execution_count": 109,
   "metadata": {},
   "outputs": [
    {
     "data": {
      "text/plain": [
       "Luis"
      ]
     },
     "execution_count": 109,
     "metadata": {},
     "output_type": "execute_result"
    }
   ],
   "source": [
    "persona.getNombre();"
   ]
  },
  {
   "cell_type": "code",
   "execution_count": 110,
   "metadata": {},
   "outputs": [
    {
     "data": {
      "text/plain": [
       "Teleco en Telefónica"
      ]
     },
     "execution_count": 110,
     "metadata": {},
     "output_type": "execute_result"
    }
   ],
   "source": [
    "trabajador.getProfesion();"
   ]
  },
  {
   "cell_type": "markdown",
   "metadata": {},
   "source": [
    "Upcasting:"
   ]
  },
  {
   "cell_type": "code",
   "execution_count": 111,
   "metadata": {},
   "outputs": [],
   "source": [
    "Persona p = trabajador;"
   ]
  },
  {
   "cell_type": "markdown",
   "metadata": {},
   "source": [
    "El método *getProfesion()* no está en el interfaz de Persona"
   ]
  },
  {
   "cell_type": "code",
   "execution_count": 112,
   "metadata": {},
   "outputs": [
    {
     "ename": "CompilationException",
     "evalue": "",
     "output_type": "error",
     "traceback": [
      "\u001b[1m\u001b[30m|   \u001b[1m\u001b[30m\u001b[0m\u001b[1m\u001b[30m\u001b[41mp.getProfesion\u001b[0m\u001b[1m\u001b[30m();\u001b[0m",
      "\u001b[1m\u001b[31mcannot find symbol\u001b[0m",
      "\u001b[1m\u001b[31m  symbol:   method getProfesion()\u001b[0m",
      ""
     ]
    }
   ],
   "source": [
    "p.getProfesion();"
   ]
  },
  {
   "cell_type": "code",
   "execution_count": 113,
   "metadata": {},
   "outputs": [],
   "source": [
    "Trabajador t = (Trabajador) p;"
   ]
  },
  {
   "cell_type": "code",
   "execution_count": 114,
   "metadata": {},
   "outputs": [
    {
     "data": {
      "text/plain": [
       "Teleco en Telefónica"
      ]
     },
     "execution_count": 114,
     "metadata": {},
     "output_type": "execute_result"
    }
   ],
   "source": [
    "t.getProfesion();"
   ]
  },
  {
   "cell_type": "code",
   "execution_count": 115,
   "metadata": {},
   "outputs": [],
   "source": [
    "Object o = p;"
   ]
  },
  {
   "cell_type": "code",
   "execution_count": 116,
   "metadata": {},
   "outputs": [],
   "source": [
    "Object objetos[] = new Object[10];"
   ]
  },
  {
   "cell_type": "code",
   "execution_count": 119,
   "metadata": {},
   "outputs": [
    {
     "data": {
      "text/plain": [
       "Jaime(33)Teleco en Telefónica"
      ]
     },
     "execution_count": 119,
     "metadata": {},
     "output_type": "execute_result"
    }
   ],
   "source": [
    "objetos[0] = persona;\n",
    "objetos[1] = \"Hola\";\n",
    "objetos[2] = trabajador;"
   ]
  },
  {
   "cell_type": "code",
   "execution_count": 120,
   "metadata": {},
   "outputs": [
    {
     "name": "stdout",
     "output_type": "stream",
     "text": [
      "Luis(22)\n",
      "Hola\n",
      "Jaime(33)Teleco en Telefónica\n"
     ]
    }
   ],
   "source": [
    "for(int i=0;i<3;i++)\n",
    "    System.out.println(objetos[i].toString());"
   ]
  },
  {
   "cell_type": "code",
   "execution_count": 121,
   "metadata": {},
   "outputs": [
    {
     "data": {
      "text/plain": [
       "Jaime(33)Teleco en Telefónica"
      ]
     },
     "execution_count": 121,
     "metadata": {},
     "output_type": "execute_result"
    }
   ],
   "source": [
    "p.toString()"
   ]
  },
  {
   "cell_type": "code",
   "execution_count": 122,
   "metadata": {},
   "outputs": [
    {
     "ename": "CompilationException",
     "evalue": "",
     "output_type": "error",
     "traceback": [
      "\u001b[1m\u001b[30m|   \u001b[1m\u001b[30m\u001b[0m\u001b[1m\u001b[30m\u001b[41mobjetos[0].getNombre\u001b[0m\u001b[1m\u001b[30m()\u001b[0m",
      "\u001b[1m\u001b[31mcannot find symbol\u001b[0m",
      "\u001b[1m\u001b[31m  symbol:   method getNombre()\u001b[0m",
      ""
     ]
    }
   ],
   "source": [
    "objetos[0].getNombre()"
   ]
  },
  {
   "cell_type": "code",
   "execution_count": 123,
   "metadata": {},
   "outputs": [
    {
     "data": {
      "text/plain": [
       "Luis(22)"
      ]
     },
     "execution_count": 123,
     "metadata": {},
     "output_type": "execute_result"
    }
   ],
   "source": [
    "objetos[0].toString()"
   ]
  },
  {
   "cell_type": "code",
   "execution_count": 124,
   "metadata": {},
   "outputs": [
    {
     "name": "stdout",
     "output_type": "stream",
     "text": [
      "Jaime(33)Teleco en Telefónica\n"
     ]
    }
   ],
   "source": [
    "System.out.println(p);"
   ]
  },
  {
   "cell_type": "markdown",
   "metadata": {},
   "source": [
    "Downcasting"
   ]
  },
  {
   "cell_type": "code",
   "execution_count": 133,
   "metadata": {},
   "outputs": [
    {
     "ename": "EvalException",
     "evalue": "REPL.$JShell$18R$Persona cannot be cast to REPL.$JShell$19M$Trabajador",
     "output_type": "error",
     "traceback": [
      "\u001b[1m\u001b[31m---------------------------------------------------------------------------\u001b[0m",
      "\u001b[1m\u001b[31mjava.lang.ClassCastException: REPL.$JShell$18R$Persona cannot be cast to REPL.$JShell$19M$Trabajador\u001b[0m",
      "\u001b[1m\u001b[31m\tat .(#27:1)\u001b[0m"
     ]
    }
   ],
   "source": [
    "Trabajador t = (Trabajador) objetos[0];"
   ]
  },
  {
   "cell_type": "code",
   "execution_count": 134,
   "metadata": {},
   "outputs": [],
   "source": [
    "Trabajador t = (Trabajador) objetos[2];"
   ]
  },
  {
   "cell_type": "code",
   "execution_count": 135,
   "metadata": {},
   "outputs": [
    {
     "data": {
      "text/plain": [
       "Jaime"
      ]
     },
     "execution_count": 135,
     "metadata": {},
     "output_type": "execute_result"
    }
   ],
   "source": [
    "t.getNombre()"
   ]
  },
  {
   "cell_type": "code",
   "execution_count": 136,
   "metadata": {},
   "outputs": [
    {
     "data": {
      "text/plain": [
       "Teleco en Telefónica"
      ]
     },
     "execution_count": 136,
     "metadata": {},
     "output_type": "execute_result"
    }
   ],
   "source": [
    "t.getProfesion()"
   ]
  }
 ],
 "metadata": {
  "kernelspec": {
   "display_name": "Java",
   "language": "java",
   "name": "java"
  },
  "language_info": {
   "codemirror_mode": "java",
   "file_extension": ".java",
   "mimetype": "text/x-java-source",
   "name": "Java",
   "pygments_lexer": "java",
   "version": "10.0.2+13-Ubuntu-1ubuntu0.18.04.4"
  }
 },
 "nbformat": 4,
 "nbformat_minor": 2
}
